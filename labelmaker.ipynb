{
 "cells": [
  {
   "cell_type": "markdown",
   "id": "2d0f95b4-285f-466b-894a-2d450ec39e78",
   "metadata": {},
   "source": [
    "# Data preparation"
   ]
  },
  {
   "cell_type": "code",
   "execution_count": 1,
   "id": "72812b3b-e49e-4007-b647-f760a199df2d",
   "metadata": {},
   "outputs": [],
   "source": [
    "################################\n",
    "#Label & Image split and pair  #\n",
    "#Maintainer: Christopher Chan  #\n",
    "#Date: 2021-02-05              #\n",
    "#Version: 0.1.2                #\n",
    "################################\n",
    "\n",
    "import os\n",
    "import pathlib\n",
    "import argparse\n",
    "import json\n",
    "import random\n",
    "import rasterio as rio\n",
    "import numpy as np\n",
    "import pandas as pd\n",
    "import matplotlib.pyplot as plt\n",
    "from osgeo import gdal\n",
    "from zipfile import ZipFile\n",
    "from glob import glob\n",
    "from rasterio import features\n",
    "from rasterio.plot import show\n",
    "from rasterio.mask import mask\n",
    "from itertools import product\n",
    "from PIL import Image\n",
    "\n",
    "#parser = argparse.ArgumentParser(description=\"config\")\n",
    "#parser.add_argument(\"--vector_path\", type=str, default=\"/root/vector\",\n",
    "#                    help=\"path to project vector file, format: \"\"/root/Vector\"\"\")\n",
    "#parser.add_argument(\"--raster_path\", type=str, default=\"/root/raster\",\n",
    "#                    help=\"path to project raster file, format: \"\"/root/vector\"\"\")\n",
    "#args = parser.parse_args()\n",
    "\n",
    "#print(\"Requested parameters:\")\n",
    "\n",
    "#for arg in vars(args):\n",
    "#   print(\"\\t\", arg, getattr(args, arg))\n",
    "\n",
    "os.chdir(\"/home/chris/Dropbox/HOTOSM\")\n",
    "\n",
    "KBY10_path = os.path.abspath(\"/home/mnt/HOTOSM_data//Kakuma10cm/Kalobeyei\")\n",
    "DZK10_path = os.path.abspath(\"/home/mnt/HOTOSM_data/Dzaleka10cm\")\n",
    "DZKN10_path = os.path.abspath(\"/home/mnt/HOTOSM_data/Dzaleka_N10cm\")\n",
    "\n",
    "KBY15_path = os.path.abspath(\"/home/mnt/HOTOSM_data//Kakuma15cm/Kalobeyei\")\n",
    "DZK15_path = os.path.abspath(\"/home/mnt/HOTOSM_data/Dzaleka15cm\")\n",
    "DZKN15_path = os.path.abspath(\"/home/mnt/HOTOSM_data/Dzaleka_N15cm\")\n",
    "#NEN10_path = os.path.abspath(\"/home/mnt/HOTOSM_data/NE_Nagbo10cm\")\n",
    "code_path = os.path.join(os.getcwd(), \"HOTOSM_OAM_codeV2\")\n",
    "\n",
    "ALL_IMG_path = os.path.abspath(\"/home/chris/Dropbox/HOTOSM/ALL_IMG_15cm\")"
   ]
  },
  {
   "cell_type": "markdown",
   "id": "7838e91b-0313-4435-b43c-efc09f7f723d",
   "metadata": {},
   "source": [
    "## Training data Tiles"
   ]
  },
  {
   "cell_type": "markdown",
   "id": "ad73f778-7266-4ad6-8e8b-302b98d95c5a",
   "metadata": {},
   "source": [
    "### Normalisation of separate bands"
   ]
  },
  {
   "cell_type": "markdown",
   "id": "7dff2d94-1b3e-4006-a69a-beb141cc7cac",
   "metadata": {},
   "source": [
    "#### Option A: Calculate using rasterio in memory"
   ]
  },
  {
   "cell_type": "code",
   "execution_count": 14,
   "id": "446fd7aa-4a8e-404c-b469-f5b2b1b66575",
   "metadata": {},
   "outputs": [
    {
     "name": "stdout",
     "output_type": "stream",
     "text": [
      "/home/mnt/HOTOSM_data/Dzaleka_N15cm/Raster/IMask_DZKN15.tif\n"
     ]
    }
   ],
   "source": [
    "with rio.open(os.path.join(DZKN15_path, \"Raster\",\"IMask_DZKN15.tif\")) as src:\n",
    "    print(src.name)\n",
    "    meta = src.meta.copy()\n",
    "    \n",
    "    src2 = gdal.Open(src.name)\n",
    "    R_stats = src2.GetRasterBand(1).GetStatistics(True, True)\n",
    "    R_min, R_max, R_mean, R_std = R_stats[0], R_stats[1], R_stats[2], R_stats[3]\n",
    "    \n",
    "    G_stats = src2.GetRasterBand(2).GetStatistics(True, True)\n",
    "    G_min, G_max, G_mean, G_std = G_stats[0], G_stats[1], G_stats[2], G_stats[3]\n",
    "    \n",
    "    B_stats = src2.GetRasterBand(3).GetStatistics(True, True)\n",
    "    B_min, B_max, B_mean, B_std = B_stats[0], B_stats[1], B_stats[2], B_stats[3]\n",
    "   \n",
    "    # Z-score normalisation\n",
    "    znorm_R = (src.read(1) - R_mean) / R_std\n",
    "    znorm_G = (src.read(2) - G_mean) / G_std\n",
    "    znorm_B = (src.read(3) - B_mean) / B_std\n",
    "    \n",
    "    # Linear normalisation of Z-norm\n",
    "    norm_R = ((znorm_R - znorm_R.min()) * 255) / (znorm_R.max() - znorm_R.min())\n",
    "    norm_G = ((znorm_G - znorm_G.min()) * 255) / (znorm_G.max() - znorm_G.min())\n",
    "    norm_B = ((znorm_B - znorm_B.min()) * 255) / (znorm_B.max() - znorm_B.min())\n",
    "    \n",
    "    outpath = os.path.join(DZKN15_path, \"Raster\", \"IMask_DZKN15.tif\")\n",
    "    \n",
    "    with rio.open(outpath, \"w\", **meta) as out:\n",
    "        out.write(norm_R, indexes = 1)\n",
    "        out.write(norm_G, indexes = 2)\n",
    "        out.write(norm_B, indexes = 3)"
   ]
  },
  {
   "cell_type": "markdown",
   "id": "d2766c46-5d0d-4842-abe9-3f4392e8e1e0",
   "metadata": {},
   "source": [
    "#### Option B: If taking too much memory (e.g. KBY)"
   ]
  },
  {
   "cell_type": "code",
   "execution_count": null,
   "id": "c69d23e4-c5e5-4244-8226-a2b3db19e67f",
   "metadata": {},
   "outputs": [],
   "source": [
    "gdal_calc.py -A 3857_KBY10cm.tif --format=GTiff --A_band=1 -B 3857_KBY10cm.tif --B_band=2 -C 3857_KBY10cm.tif --C_band=3 --type Float32 --calc=\"(A-166.6537040821)/29.640548169578\" --calc=\"(B-135.1168216355)/30.53793119212\" --calc=\"(C-104.53429806564)/30.24288788478\" --outfile znorm_KBY10cm.tif\n",
    "\n",
    "gdal_calc.py -A znorm_KBY10cm.tif --format=GTiff --A_band=1 -B znorm_KBY10cm.tif --B_band=2 -C znorm_KBY10cm.tif --C_band=3 --type Float32 --calc=\"((A--6.1002683639526)*255)/(3.4010300636292--6.1002683639526)\" --calc=\"((B--4.9742159843445)*255)/(4.2805070877075--4.9742159843445)\" --calc=\"((C--4.0053110122681)*255)/(5.3121399879456--4.0053110122681)\" --outfile norm_KBY10cm.tif\n"
   ]
  },
  {
   "cell_type": "markdown",
   "id": "5f960b14",
   "metadata": {},
   "source": [
    "## GO SPLIT THE RGB AND CREATE STACK.VRT and STACK.TIF WITH RASTERISED_LBL USING SHELL SCRIPTS."
   ]
  },
  {
   "cell_type": "markdown",
   "id": "5e9c1abf-766b-4577-a804-557b9b419294",
   "metadata": {},
   "source": [
    "### Cutting into tiles"
   ]
  },
  {
   "cell_type": "code",
   "execution_count": 7,
   "id": "971b0dac-7f6f-4507-9545-d493ccdd67dd",
   "metadata": {
    "tags": []
   },
   "outputs": [],
   "source": [
    "# Tiling function\n",
    "\n",
    "def get_tilesA(src, width = 256 , height = 256):\n",
    "    ncols, nrows = src.meta[\"width\"], src.meta[\"height\"]\n",
    "    #offsets = product(range(0, ncols, round((width*2)/3)), range(0, nrows, round((height*2)/3)))\n",
    "    offsets = product(range(0, ncols, width), range(0, nrows, height))\n",
    "    Big_Tiles = rio.windows.Window(col_off = 0, row_off = 0, width = ncols, height = nrows)\n",
    "    for col_off, row_off in offsets:\n",
    "        tiles = rio.windows.Window(col_off = col_off, row_off = row_off, width = width, height = height).intersection(Big_Tiles)\n",
    "        transform = rio.windows.transform(tiles, src.transform)\n",
    "        yield tiles, transform\n",
    "\n",
    "########################################\n",
    "#                                      #\n",
    "output_filename = \"KBY15_IMG_{}-{}.tif\"#\n",
    "#                                      # \n",
    "########################################\n",
    "\n",
    "with rio.open(os.path.join(KBY15_path, \"td_KBY\", \"stack.tif\")) as src:\n",
    "    tile_width, tile_height = 256, 256\n",
    "    meta = src.meta.copy()\n",
    "    \n",
    "    for tiles, transform in get_tilesA(src):\n",
    "        #print(tiles)\n",
    "        meta[\"transform\"] = transform\n",
    "        meta[\"width\"], meta[\"height\"] = tiles.width, tiles.height\n",
    "        #outpath = os.path.join(DZKN15_path, \"td_DZKN\", \"IMG\", output_filename.format(int(tiles.col_off), int(tiles.row_off)))\n",
    "        outpath = os.path.join(ALL_IMG_path, output_filename.format(int(tiles.col_off), int(tiles.row_off)))\n",
    "        with rio.open(outpath, \"w\", **meta) as out:\n",
    "            out.write(src.read(window = tiles))\n",
    "    "
   ]
  },
  {
   "cell_type": "code",
   "execution_count": 9,
   "id": "38b2053f-c98f-4670-97aa-3302ec664817",
   "metadata": {},
   "outputs": [],
   "source": [
    "# Checkout band 4 to see if label exist\n",
    "# if sum(sum) of matrix > 0, they exist\n",
    "# I.e. remove tif with b4 = 0\n",
    "# Also check if dimension do not confine to 512 by 512 square\n",
    "# I.e. remove tif if not 512x512 tile\n",
    "\n",
    "#for root, dirname, filename in os.walk(os.path.join(DZKN15_path, \"td_DZKN\", \"IMG\")):\n",
    "for root, dirname, filename in os.walk(ALL_IMG_path):\n",
    "    for i in filename:\n",
    "        with rio.open(root + \"/\" + i, \"r\") as img:\n",
    "            b4 = img.read(4)\n",
    "            dim = img.shape\n",
    "            \n",
    "            if sum(sum(b4)) == 0.0 or dim != (256, 256):\n",
    "                os.remove(root + \"/\" + i)"
   ]
  },
  {
   "cell_type": "markdown",
   "id": "2915a261",
   "metadata": {},
   "source": [
    "### Replace 2 for 1 in classification for binary segmentation"
   ]
  },
  {
   "cell_type": "code",
   "execution_count": 53,
   "id": "2c02e610",
   "metadata": {},
   "outputs": [],
   "source": [
    "for root, dirname, filename in os.walk(os.path.join(DZKN10_path, \"td_DZKN\", \"LBL\")):\n",
    "    for i in filename:\n",
    "        if i.endswith(\".png\"):\n",
    "            img = Image.open(root + \"/\" + i)\n",
    "            px = img.load()\n",
    "\n",
    "            width, height = img.size\n",
    "\n",
    "            for x in range(width):\n",
    "                for y in range(height):\n",
    "\n",
    "                    if px[x, y] == 2:\n",
    "                        px[x, y] = 1\n",
    "\n",
    "            img.save(os.path.abspath(root + \"/\" + i))"
   ]
  },
  {
   "cell_type": "markdown",
   "id": "ce10367e-e38b-4314-9d18-fe1e1c915240",
   "metadata": {},
   "source": [
    "![False Colour tile sample](/home/mnt/HOTOSM_data/Kakuma/Kalobeyei/td_KBY/IMG/KBY_IMG_34816-12800.png)"
   ]
  }
 ],
 "metadata": {
  "interpreter": {
   "hash": "2408229d08f4ddff945e714f454f05f83f26b6501772e85c02cb5763c1354114"
  },
  "kernelspec": {
   "display_name": "Python 3 (ipykernel)",
   "language": "python",
   "name": "python3"
  },
  "language_info": {
   "codemirror_mode": {
    "name": "ipython",
    "version": 3
   },
   "file_extension": ".py",
   "mimetype": "text/x-python",
   "name": "python",
   "nbconvert_exporter": "python",
   "pygments_lexer": "ipython3",
   "version": "3.9.10"
  },
  "toc-autonumbering": true,
  "toc-showcode": false,
  "toc-showmarkdowntxt": false
 },
 "nbformat": 4,
 "nbformat_minor": 5
}
