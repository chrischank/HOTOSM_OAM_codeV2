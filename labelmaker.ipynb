{
 "cells": [
  {
   "cell_type": "markdown",
   "id": "2d0f95b4-285f-466b-894a-2d450ec39e78",
   "metadata": {},
   "source": [
    "# Data preparation"
   ]
  },
  {
   "cell_type": "code",
   "execution_count": 1,
   "id": "72812b3b-e49e-4007-b647-f760a199df2d",
   "metadata": {},
   "outputs": [],
   "source": [
    "################################\n",
    "#Label & Image split and pair  #\n",
    "#Maintainer: Christopher Chan  #\n",
    "#Date: 2021-02-05              #\n",
    "#Version: 0.1.2                #\n",
    "################################\n",
    "\n",
    "import os\n",
    "import pathlib\n",
    "import argparse\n",
    "import json\n",
    "import random\n",
    "import rasterio as rio\n",
    "import numpy as np\n",
    "import pandas as pd\n",
    "import matplotlib.pyplot as plt\n",
    "from osgeo import gdal\n",
    "from zipfile import ZipFile\n",
    "from glob import glob\n",
    "from rasterio import features\n",
    "from rasterio.plot import show\n",
    "from rasterio.mask import mask\n",
    "from itertools import product\n",
    "from PIL import Image\n",
    "\n",
    "#parser = argparse.ArgumentParser(description=\"config\")\n",
    "#parser.add_argument(\"--vector_path\", type=str, default=\"/root/vector\",\n",
    "#                    help=\"path to project vector file, format: \"\"/root/Vector\"\"\")\n",
    "#parser.add_argument(\"--raster_path\", type=str, default=\"/root/raster\",\n",
    "#                    help=\"path to project raster file, format: \"\"/root/vector\"\"\")\n",
    "#args = parser.parse_args()\n",
    "\n",
    "#print(\"Requested parameters:\")\n",
    "\n",
    "#for arg in vars(args):\n",
    "#   print(\"\\t\", arg, getattr(args, arg))\n",
    "\n",
    "os.chdir(\"/home/chris/Dropbox/HOTOSM\")\n",
    "\n",
    "KBY_path = os.path.abspath(\"/home/mnt/HOTOSM_data//Kakuma/Kalobeyei\")\n",
    "DZK_path = os.path.abspath(\"/home/mnt/HOTOSM_data/Dzaleka\")\n",
    "DZKN_path = os.path.abspath(\"/home/mnt/HOTOSM_data/Dzaleka_N\")\n",
    "code_path = os.path.join(os.getcwd(), \"HOTOSM_OAM_codeV2\")"
   ]
  },
  {
   "cell_type": "markdown",
   "id": "7838e91b-0313-4435-b43c-efc09f7f723d",
   "metadata": {},
   "source": [
    "## Training data Tiles"
   ]
  },
  {
   "cell_type": "markdown",
   "id": "ad73f778-7266-4ad6-8e8b-302b98d95c5a",
   "metadata": {},
   "source": [
    "### Normalisation of separate bands"
   ]
  },
  {
   "cell_type": "markdown",
   "id": "7dff2d94-1b3e-4006-a69a-beb141cc7cac",
   "metadata": {},
   "source": [
    "#### Option A: Calculate using rasterio in memory"
   ]
  },
  {
   "cell_type": "code",
   "execution_count": 5,
   "id": "446fd7aa-4a8e-404c-b469-f5b2b1b66575",
   "metadata": {},
   "outputs": [
    {
     "ename": "IndentationError",
     "evalue": "unexpected indent (3272616130.py, line 2)",
     "output_type": "error",
     "traceback": [
      "\u001b[0;36m  File \u001b[0;32m\"/tmp/ipykernel_4085/3272616130.py\"\u001b[0;36m, line \u001b[0;32m2\u001b[0m\n\u001b[0;31m    print(src.name)\u001b[0m\n\u001b[0m    ^\u001b[0m\n\u001b[0;31mIndentationError\u001b[0m\u001b[0;31m:\u001b[0m unexpected indent\n"
     ]
    }
   ],
   "source": [
    "with rio.open(os.path.join(KBY_path, \"Raster\", \"merged\", \"3857_KBY10cm.tif\")) as src:\n",
    "    print(src.name)\n",
    "    meta = src.meta.copy()\n",
    "    \n",
    "    src2 = gdal.Open(src.name)\n",
    "    R_stats = src2.GetRasterBand(1).GetStatistics(True, True)\n",
    "    R_min, R_max, R_mean, R_std = R_stats[0], R_stats[1], R_stats[2], R_stats[3]\n",
    "    \n",
    "    G_stats = src2.GetRasterBand(2).GetStatistics(True, True)\n",
    "    G_min, G_max, G_mean, G_std = G_stats[0], G_stats[1], G_stats[2], G_stats[3]\n",
    "    \n",
    "    B_stats = src2.GetRasterBand(3).GetStatistics(True, True)\n",
    "    B_min, B_max, B_mean, B_std = B_stats[0], B_stats[1], B_stats[2], B_stats[3]\n",
    "   \n",
    "    # Z-score normalisation\n",
    "    znorm_R = (src.read(1) - R_mean) / R_std\n",
    "    znorm_G = (src.read(2) - G_mean) / G_std\n",
    "    znorm_B = (src.read(3) - B_mean) / B_std\n",
    "    \n",
    "    # Linear normalisation of Z-norm\n",
    "    norm_R = ((znorm_R - znorm_R.min()) * 255) / (znorm_R.max() - znorm_R.min())\n",
    "    norm_G = ((znorm_G - znorm_G.min()) * 255) / (znorm_G.max() - znorm_G.min())\n",
    "    norm_B = ((znorm_B - znorm_B.min()) * 255) / (znorm_B.max() - znorm_B.min())\n",
    "    \n",
    "    outpath = os.path.join(KBY_path, \"Raster\", \"merged\", \"3847_KBY10cm.tif\")\n",
    "    \n",
    "    with rio.open(outpath, \"w\", **meta) as out:\n",
    "        out.write(norm_R, indexes = 1)\n",
    "        out.write(norm_G, indexes = 2)\n",
    "        out.write(norm_B, indexes = 3)"
   ]
  },
  {
   "cell_type": "markdown",
   "id": "d2766c46-5d0d-4842-abe9-3f4392e8e1e0",
   "metadata": {},
   "source": [
    "#### Option B: If taking too much memory (e.g. KBY)"
   ]
  },
  {
   "cell_type": "markdown",
   "id": "c69d23e4-c5e5-4244-8226-a2b3db19e67f",
   "metadata": {},
   "source": [
    "gdal_calc.py -A 3857_KBY10cm.tif --format=GTiff --A_band=1 -B 3857_KBY10cm.tif --B_band=2 -C 3857_KBY10cm.tif --C_band=3 --type Float32 --calc=\"(A-166.6537040821)/29.640548169578\" --calc=\"(B-135.1168216355)/30.53793119212\" --calc=\"(C-104.53429806564)/30.24288788478\" --outfile znorm_KBY10cm.tif\n",
    "\n",
    "gdal_calc.py -A znorm_KBY10cm.tif --format=GTiff --A_band=1 -B znorm_KBY10cm.tif --B_band=2 -C znorm_KBY10cm.tif --C_band=3 --type Float32 --calc=\"((A--6.1002683639526)*255)/(3.4010300636292--6.1002683639526)\" --calc=\"((B--4.9742159843445)*255)/(4.2805070877075--4.9742159843445)\" --calc=\"((C--4.0053110122681)*255)/(5.3121399879456--4.0053110122681)\" --outfile norm_KBY10cm.tif\n"
   ]
  },
  {
   "cell_type": "markdown",
   "id": "5e9c1abf-766b-4577-a804-557b9b419294",
   "metadata": {},
   "source": [
    "### Cutting into tiles"
   ]
  },
  {
   "cell_type": "code",
   "execution_count": 4,
   "id": "971b0dac-7f6f-4507-9545-d493ccdd67dd",
   "metadata": {
    "tags": []
   },
   "outputs": [],
   "source": [
    "# Tiling function\n",
    "\n",
    "def get_tilesA(src, width = 512, height = 512):\n",
    "    ncols, nrows = src.meta[\"width\"], src.meta[\"height\"]\n",
    "    offsets = product(range(0, ncols, round((width*2)/3)), range(0, nrows, round((height*2)/3)))\n",
    "    Big_Tiles = rio.windows.Window(col_off = 0, row_off = 0, width = ncols, height = nrows)\n",
    "    for col_off, row_off in offsets:\n",
    "        tiles = rio.windows.Window(col_off = col_off, row_off = row_off, width = width, height = height).intersection(Big_Tiles)\n",
    "        transform = rio.windows.transform(tiles, src.transform)\n",
    "        yield tiles, transform\n",
    "\n",
    "#######################################\n",
    "#                                     #\n",
    "output_filename = \"DZK_IMG_{}-{}.tif\" #\n",
    "#                                     # \n",
    "#######################################\n",
    "\n",
    "with rio.open(os.path.join(DZK_path, \"td_DZK\", \"stack.tif\")) as src:\n",
    "    tile_width, tile_height = 512, 512\n",
    "    meta = src.meta.copy()\n",
    "    \n",
    "    for tiles, transform in get_tilesA(src):\n",
    "        #print(tiles)\n",
    "        meta[\"transform\"] = transform\n",
    "        meta[\"width\"], meta[\"height\"] = tiles.width, tiles.height\n",
    "        outpath = os.path.join(DZK_path, \"td_DZK\", \"IMG\", output_filename.format(int(tiles.col_off), int(tiles.row_off)))\n",
    "        with rio.open(outpath, \"w\", **meta) as out:\n",
    "            out.write(src.read(window = tiles))\n",
    "    "
   ]
  },
  {
   "cell_type": "code",
   "execution_count": 5,
   "id": "38b2053f-c98f-4670-97aa-3302ec664817",
   "metadata": {},
   "outputs": [],
   "source": [
    "# Checkout band 4 to see if label exist\n",
    "# if sum(sum) of matrix > 0, they exist\n",
    "# I.e. remove tif with b4 = 0\n",
    "\n",
    "for root, dirname, filename in os.walk(os.path.join(DZK_path, \"td_DZK\", \"IMG\")):\n",
    "    for i in filename:\n",
    "        with rio.open(root + \"/\" + i, \"r\") as img:\n",
    "            b4 = img.read(4)\n",
    "            \n",
    "            if sum(sum(b4)) == 0.0:\n",
    "                os.remove(root + \"/\" + i)"
   ]
  },
  {
   "cell_type": "code",
   "execution_count": 8,
   "id": "17f844d5-cb93-4dc3-bc0f-0e771f84d9ed",
   "metadata": {},
   "outputs": [
    {
     "ename": "RasterioIOError",
     "evalue": "'/home/mnt/HOTOSM_data/Dzaleka/td_DZK/IMG/DZK_IMG_10230-8866.png.aux.xml' not recognized as a supported file format.",
     "output_type": "error",
     "traceback": [
      "\u001b[0;31m---------------------------------------------------------------------------\u001b[0m",
      "\u001b[0;31mCPLE_OpenFailedError\u001b[0m                      Traceback (most recent call last)",
      "\u001b[0;32mrasterio/_base.pyx\u001b[0m in \u001b[0;36mrasterio._base.DatasetBase.__init__\u001b[0;34m()\u001b[0m\n",
      "\u001b[0;32mrasterio/_shim.pyx\u001b[0m in \u001b[0;36mrasterio._shim.open_dataset\u001b[0;34m()\u001b[0m\n",
      "\u001b[0;32mrasterio/_err.pyx\u001b[0m in \u001b[0;36mrasterio._err.exc_wrap_pointer\u001b[0;34m()\u001b[0m\n",
      "\u001b[0;31mCPLE_OpenFailedError\u001b[0m: '/home/mnt/HOTOSM_data/Dzaleka/td_DZK/IMG/DZK_IMG_10230-8866.png.aux.xml' not recognized as a supported file format.",
      "\nDuring handling of the above exception, another exception occurred:\n",
      "\u001b[0;31mRasterioIOError\u001b[0m                           Traceback (most recent call last)",
      "\u001b[0;32m/tmp/ipykernel_3802/3504565395.py\u001b[0m in \u001b[0;36m<module>\u001b[0;34m\u001b[0m\n\u001b[1;32m      2\u001b[0m \u001b[0;34m\u001b[0m\u001b[0m\n\u001b[1;32m      3\u001b[0m \u001b[0;32mfor\u001b[0m \u001b[0mroot\u001b[0m\u001b[0;34m,\u001b[0m \u001b[0mdirname\u001b[0m\u001b[0;34m,\u001b[0m \u001b[0mfilename\u001b[0m \u001b[0;32min\u001b[0m \u001b[0mos\u001b[0m\u001b[0;34m.\u001b[0m\u001b[0mwalk\u001b[0m\u001b[0;34m(\u001b[0m\u001b[0mos\u001b[0m\u001b[0;34m.\u001b[0m\u001b[0mpath\u001b[0m\u001b[0;34m.\u001b[0m\u001b[0mjoin\u001b[0m\u001b[0;34m(\u001b[0m\u001b[0mDZK_path\u001b[0m\u001b[0;34m,\u001b[0m \u001b[0;34m\"td_DZK\"\u001b[0m\u001b[0;34m,\u001b[0m \u001b[0;34m\"IMG\"\u001b[0m\u001b[0;34m)\u001b[0m\u001b[0;34m)\u001b[0m\u001b[0;34m:\u001b[0m\u001b[0;34m\u001b[0m\u001b[0;34m\u001b[0m\u001b[0m\n\u001b[0;32m----> 4\u001b[0;31m     \u001b[0;32mwith\u001b[0m \u001b[0mrio\u001b[0m\u001b[0;34m.\u001b[0m\u001b[0mopen\u001b[0m\u001b[0;34m(\u001b[0m\u001b[0mroot\u001b[0m \u001b[0;34m+\u001b[0m \u001b[0;34m\"/\"\u001b[0m \u001b[0;34m+\u001b[0m \u001b[0mrandom\u001b[0m\u001b[0;34m.\u001b[0m\u001b[0mchoice\u001b[0m\u001b[0;34m(\u001b[0m\u001b[0mfilename\u001b[0m\u001b[0;34m)\u001b[0m\u001b[0;34m,\u001b[0m \u001b[0;34m\"r\"\u001b[0m\u001b[0;34m)\u001b[0m \u001b[0;32mas\u001b[0m \u001b[0mimg\u001b[0m\u001b[0;34m:\u001b[0m\u001b[0;34m\u001b[0m\u001b[0;34m\u001b[0m\u001b[0m\n\u001b[0m\u001b[1;32m      5\u001b[0m         \u001b[0mb4\u001b[0m \u001b[0;34m=\u001b[0m \u001b[0mimg\u001b[0m\u001b[0;34m.\u001b[0m\u001b[0mread\u001b[0m\u001b[0;34m(\u001b[0m\u001b[0;36m4\u001b[0m\u001b[0;34m)\u001b[0m\u001b[0;34m\u001b[0m\u001b[0;34m\u001b[0m\u001b[0m\n\u001b[1;32m      6\u001b[0m \u001b[0;34m\u001b[0m\u001b[0m\n",
      "\u001b[0;32m~/.conda/envs/HOTOSM_gpu/lib/python3.8/site-packages/rasterio/env.py\u001b[0m in \u001b[0;36mwrapper\u001b[0;34m(*args, **kwds)\u001b[0m\n\u001b[1;32m    435\u001b[0m \u001b[0;34m\u001b[0m\u001b[0m\n\u001b[1;32m    436\u001b[0m         \u001b[0;32mwith\u001b[0m \u001b[0menv_ctor\u001b[0m\u001b[0;34m(\u001b[0m\u001b[0msession\u001b[0m\u001b[0;34m=\u001b[0m\u001b[0msession\u001b[0m\u001b[0;34m)\u001b[0m\u001b[0;34m:\u001b[0m\u001b[0;34m\u001b[0m\u001b[0;34m\u001b[0m\u001b[0m\n\u001b[0;32m--> 437\u001b[0;31m             \u001b[0;32mreturn\u001b[0m \u001b[0mf\u001b[0m\u001b[0;34m(\u001b[0m\u001b[0;34m*\u001b[0m\u001b[0margs\u001b[0m\u001b[0;34m,\u001b[0m \u001b[0;34m**\u001b[0m\u001b[0mkwds\u001b[0m\u001b[0;34m)\u001b[0m\u001b[0;34m\u001b[0m\u001b[0;34m\u001b[0m\u001b[0m\n\u001b[0m\u001b[1;32m    438\u001b[0m \u001b[0;34m\u001b[0m\u001b[0m\n\u001b[1;32m    439\u001b[0m     \u001b[0;32mreturn\u001b[0m \u001b[0mwrapper\u001b[0m\u001b[0;34m\u001b[0m\u001b[0;34m\u001b[0m\u001b[0m\n",
      "\u001b[0;32m~/.conda/envs/HOTOSM_gpu/lib/python3.8/site-packages/rasterio/__init__.py\u001b[0m in \u001b[0;36mopen\u001b[0;34m(fp, mode, driver, width, height, count, crs, transform, dtype, nodata, sharing, **kwargs)\u001b[0m\n\u001b[1;32m    218\u001b[0m         \u001b[0;31m# None.\u001b[0m\u001b[0;34m\u001b[0m\u001b[0;34m\u001b[0m\u001b[0;34m\u001b[0m\u001b[0m\n\u001b[1;32m    219\u001b[0m         \u001b[0;32mif\u001b[0m \u001b[0mmode\u001b[0m \u001b[0;34m==\u001b[0m \u001b[0;34m'r'\u001b[0m\u001b[0;34m:\u001b[0m\u001b[0;34m\u001b[0m\u001b[0;34m\u001b[0m\u001b[0m\n\u001b[0;32m--> 220\u001b[0;31m             \u001b[0ms\u001b[0m \u001b[0;34m=\u001b[0m \u001b[0mDatasetReader\u001b[0m\u001b[0;34m(\u001b[0m\u001b[0mpath\u001b[0m\u001b[0;34m,\u001b[0m \u001b[0mdriver\u001b[0m\u001b[0;34m=\u001b[0m\u001b[0mdriver\u001b[0m\u001b[0;34m,\u001b[0m \u001b[0msharing\u001b[0m\u001b[0;34m=\u001b[0m\u001b[0msharing\u001b[0m\u001b[0;34m,\u001b[0m \u001b[0;34m**\u001b[0m\u001b[0mkwargs\u001b[0m\u001b[0;34m)\u001b[0m\u001b[0;34m\u001b[0m\u001b[0;34m\u001b[0m\u001b[0m\n\u001b[0m\u001b[1;32m    221\u001b[0m         \u001b[0;32melif\u001b[0m \u001b[0mmode\u001b[0m \u001b[0;34m==\u001b[0m \u001b[0;34m\"r+\"\u001b[0m\u001b[0;34m:\u001b[0m\u001b[0;34m\u001b[0m\u001b[0;34m\u001b[0m\u001b[0m\n\u001b[1;32m    222\u001b[0m             s = get_writer_for_path(path, driver=driver)(\n",
      "\u001b[0;32mrasterio/_base.pyx\u001b[0m in \u001b[0;36mrasterio._base.DatasetBase.__init__\u001b[0;34m()\u001b[0m\n",
      "\u001b[0;31mRasterioIOError\u001b[0m: '/home/mnt/HOTOSM_data/Dzaleka/td_DZK/IMG/DZK_IMG_10230-8866.png.aux.xml' not recognized as a supported file format."
     ]
    }
   ],
   "source": [
    "# Inspect random output\n",
    "\n",
    "for root, dirname, filename in os.walk(os.path.join(DZK_path, \"td_DZK\", \"IMG\")):\n",
    "    with rio.open(root + \"/\" + random.choice(filename), \"r\") as img:\n",
    "        b4 = img.read(4)\n",
    "        \n",
    "        print(b4)"
   ]
  },
  {
   "cell_type": "code",
   "execution_count": 4,
   "id": "92ae36be-b24b-4e44-a256-71f94b4d7a06",
   "metadata": {},
   "outputs": [
    {
     "ename": "UnidentifiedImageError",
     "evalue": "cannot identify image file '/home/mnt/HOTOSM_data/Dzaleka/td_DZK/LBL/DZK_LBL_7502-7502.png.aux.xml'",
     "output_type": "error",
     "traceback": [
      "\u001b[0;31m---------------------------------------------------------------------------\u001b[0m",
      "\u001b[0;31mUnidentifiedImageError\u001b[0m                    Traceback (most recent call last)",
      "\u001b[0;32m/tmp/ipykernel_4085/2970013020.py\u001b[0m in \u001b[0;36m<module>\u001b[0;34m\u001b[0m\n\u001b[1;32m      6\u001b[0m \u001b[0;31m# Inspect LBL output\u001b[0m\u001b[0;34m\u001b[0m\u001b[0;34m\u001b[0m\u001b[0m\n\u001b[1;32m      7\u001b[0m \u001b[0;32mfor\u001b[0m \u001b[0mroot\u001b[0m\u001b[0;34m,\u001b[0m \u001b[0mdirname\u001b[0m\u001b[0;34m,\u001b[0m \u001b[0mfilename\u001b[0m \u001b[0;32min\u001b[0m \u001b[0mos\u001b[0m\u001b[0;34m.\u001b[0m\u001b[0mwalk\u001b[0m\u001b[0;34m(\u001b[0m\u001b[0mos\u001b[0m\u001b[0;34m.\u001b[0m\u001b[0mpath\u001b[0m\u001b[0;34m.\u001b[0m\u001b[0mjoin\u001b[0m\u001b[0;34m(\u001b[0m\u001b[0mDZK_path\u001b[0m\u001b[0;34m,\u001b[0m \u001b[0;34m\"td_DZK\"\u001b[0m\u001b[0;34m,\u001b[0m \u001b[0;34m\"LBL\"\u001b[0m\u001b[0;34m)\u001b[0m\u001b[0;34m)\u001b[0m\u001b[0;34m:\u001b[0m\u001b[0;34m\u001b[0m\u001b[0;34m\u001b[0m\u001b[0m\n\u001b[0;32m----> 8\u001b[0;31m     \u001b[0mim\u001b[0m \u001b[0;34m=\u001b[0m \u001b[0mImage\u001b[0m\u001b[0;34m.\u001b[0m\u001b[0mopen\u001b[0m\u001b[0;34m(\u001b[0m\u001b[0mroot\u001b[0m \u001b[0;34m+\u001b[0m \u001b[0;34m\"/\"\u001b[0m\u001b[0;34m+\u001b[0m\u001b[0mrandom\u001b[0m\u001b[0;34m.\u001b[0m\u001b[0mchoice\u001b[0m\u001b[0;34m(\u001b[0m\u001b[0mfilename\u001b[0m\u001b[0;34m)\u001b[0m\u001b[0;34m)\u001b[0m\u001b[0;34m\u001b[0m\u001b[0;34m\u001b[0m\u001b[0m\n\u001b[0m\u001b[1;32m      9\u001b[0m     \u001b[0mim\u001b[0m\u001b[0;34m.\u001b[0m\u001b[0mshow\u001b[0m\u001b[0;34m(\u001b[0m\u001b[0;34m)\u001b[0m\u001b[0;34m\u001b[0m\u001b[0;34m\u001b[0m\u001b[0m\n",
      "\u001b[0;32m~/.conda/envs/HOTOSM_gpu/lib/python3.9/site-packages/PIL/Image.py\u001b[0m in \u001b[0;36mopen\u001b[0;34m(fp, mode, formats)\u001b[0m\n\u001b[1;32m   3028\u001b[0m     \u001b[0;32mfor\u001b[0m \u001b[0mmessage\u001b[0m \u001b[0;32min\u001b[0m \u001b[0maccept_warnings\u001b[0m\u001b[0;34m:\u001b[0m\u001b[0;34m\u001b[0m\u001b[0;34m\u001b[0m\u001b[0m\n\u001b[1;32m   3029\u001b[0m         \u001b[0mwarnings\u001b[0m\u001b[0;34m.\u001b[0m\u001b[0mwarn\u001b[0m\u001b[0;34m(\u001b[0m\u001b[0mmessage\u001b[0m\u001b[0;34m)\u001b[0m\u001b[0;34m\u001b[0m\u001b[0;34m\u001b[0m\u001b[0m\n\u001b[0;32m-> 3030\u001b[0;31m     raise UnidentifiedImageError(\n\u001b[0m\u001b[1;32m   3031\u001b[0m         \u001b[0;34m\"cannot identify image file %r\"\u001b[0m \u001b[0;34m%\u001b[0m \u001b[0;34m(\u001b[0m\u001b[0mfilename\u001b[0m \u001b[0;32mif\u001b[0m \u001b[0mfilename\u001b[0m \u001b[0;32melse\u001b[0m \u001b[0mfp\u001b[0m\u001b[0;34m)\u001b[0m\u001b[0;34m\u001b[0m\u001b[0;34m\u001b[0m\u001b[0m\n\u001b[1;32m   3032\u001b[0m     )\n",
      "\u001b[0;31mUnidentifiedImageError\u001b[0m: cannot identify image file '/home/mnt/HOTOSM_data/Dzaleka/td_DZK/LBL/DZK_LBL_7502-7502.png.aux.xml'"
     ]
    },
    {
     "name": "stderr",
     "output_type": "stream",
     "text": [
      "gm display: Unable to load font (-*-helvetica-medium-r-normal--12-*-*-*-*-*-iso8859-1) [Resource temporarily unavailable].\n"
     ]
    }
   ],
   "source": [
    "# Inspect IMG output\n",
    "for root, dirname, filename in os.walk(os.path.join(DZK_path, \"td_DZK\", \"IMG\")):\n",
    "    im = Image.open(root + \"/\"+random.choice(filename))\n",
    "    im.show()\n",
    "    \n",
    "# Inspect LBL output\n",
    "for root, dirname, filename in os.walk(os.path.join(DZK_path, \"td_DZK\", \"LBL\")):\n",
    "    im = Image.open(root + \"/\"+random.choice(filename))\n",
    "    im.show()"
   ]
  },
  {
   "cell_type": "markdown",
   "id": "ce10367e-e38b-4314-9d18-fe1e1c915240",
   "metadata": {},
   "source": [
    "![False Colour tile sample](/home/mnt/HOTOSM_data/Kakuma/Kalobeyei/td_KBY/IMG/KBY_IMG_34816-12800.png)"
   ]
  }
 ],
 "metadata": {
  "kernelspec": {
   "display_name": "Python 3 (ipykernel)",
   "language": "python",
   "name": "python3"
  },
  "language_info": {
   "codemirror_mode": {
    "name": "ipython",
    "version": 3
   },
   "file_extension": ".py",
   "mimetype": "text/x-python",
   "name": "python",
   "nbconvert_exporter": "python",
   "pygments_lexer": "ipython3",
   "version": "3.9.7"
  },
  "toc-autonumbering": true,
  "toc-showcode": false,
  "toc-showmarkdowntxt": false
 },
 "nbformat": 4,
 "nbformat_minor": 5
}
