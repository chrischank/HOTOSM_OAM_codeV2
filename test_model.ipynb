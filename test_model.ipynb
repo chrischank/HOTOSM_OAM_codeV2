{
 "cells": [
  {
   "cell_type": "markdown",
   "id": "2492f4f0-d5b8-48ed-bd27-e42b69d62c6d",
   "metadata": {},
   "source": [
    "# Test pretrained model(s)"
   ]
  },
  {
   "cell_type": "markdown",
   "id": "1004e562",
   "metadata": {},
   "source": [
    "ATTENTION!!! Run the qubvel pretrained Network in a separate conda environment with:\n",
    "- torch==1.1.0\n",
    "- python >=3.7,<3.8\n",
    "- for details read qubvel_requirements.txt"
   ]
  },
  {
   "cell_type": "code",
   "execution_count": 1,
   "id": "7459537d-d913-4f4b-bd41-6a73b3d31e6f",
   "metadata": {},
   "outputs": [],
   "source": [
    "import os\n",
    "import sys\n",
    "import torch\n",
    "import numpy as np\n",
    "import pandas as pd\n",
    "import torchvision\n",
    "import torchvision.models as models\n",
    "import segmentation_models_pytorch as smp\n",
    "import torch.nn as nn\n",
    "import matplotlib.pyplot as plt\n",
    "from Networks import Five_UNet\n",
    "from torchvision import transforms\n",
    "from PIL import Image\n",
    "\n",
    "\n",
    "device = torch.device(\"cuda\") if torch.cuda.is_available() else torch.device(\"cpu\")"
   ]
  },
  {
   "cell_type": "code",
   "execution_count": 2,
   "id": "a7b07f3f-2800-4f6b-9f04-92196d5006d5",
   "metadata": {},
   "outputs": [
    {
     "name": "stdout",
     "output_type": "stream",
     "text": [
      "torch.Size([512, 512, 3])\n",
      "torch.Size([3, 512, 512, 10])\n",
      "torch.Size([3, 512, 512])\n",
      "torch.Size([3, 512, 512])\n",
      "torch.Size([3, 512, 512])\n",
      "torch.Size([3, 512, 512])\n",
      "torch.Size([3, 512, 512])\n",
      "torch.Size([3, 512, 512])\n",
      "torch.Size([3, 512, 512])\n",
      "torch.Size([3, 512, 512])\n",
      "torch.Size([3, 512, 512])\n",
      "torch.Size([3, 512, 512])\n",
      "torch.Size([10, 3, 512, 512])\n"
     ]
    },
    {
     "data": {
      "image/png": "[encoded data removed]",
      "text/plain": [
       "<Figure size 432x288 with 1 Axes>"
      ]
     },
     "metadata": {
      "needs_background": "light"
     },
     "output_type": "display_data"
    }
   ],
   "source": [
    "data_path = os.path.abspath(\"/home/chris/Dropbox/HOTOSM/SAMPLE/\")\n",
    "\n",
    "DZK = []\n",
    "\n",
    "for root, path, filename in os.walk(os.path.join(data_path, \"td_DZK\", \"IMG/\")):\n",
    "    for i in filename:\n",
    "        if i.endswith(\".png\"):\n",
    "            to_tensor = transforms.ToTensor()\n",
    "            \n",
    "            with Image.open(root + i) as img:\n",
    "                img = to_tensor(img)\n",
    "                DZK.append(img)\n",
    "\n",
    "# plot the pixel values\n",
    "#img_np = np.array(DZK[3])\n",
    "#plt.hist(img_np.ravel(), bins=50, density=True)\n",
    "#plt.xlabel(\"pixel values\")\n",
    "#plt.ylabel(\"relative frequency\")\n",
    "#plt.title(\"distribution of pixels\")                \n",
    "\n",
    "test = DZK[4].permute(1, 2, 0)\n",
    "print(test.shape)\n",
    "plt.imshow(test)\n",
    "\n",
    "# Calculate mean and std for normalisation\n",
    "# (Channel, Height, Width, Batch)\n",
    "imgs = torch.stack(DZK, dim = 3)\n",
    "print(imgs.shape)\n",
    "\n",
    "mean = imgs.view(3, -1).mean(dim = 1)\n",
    "std = imgs.view(3, -1).std(dim = 1)\n",
    "\n",
    "# Reset DZK list\n",
    "DZK = []\n",
    "\n",
    "for root, path, filename in os.walk(os.path.join(data_path, \"td_DZK\", \"IMG/\")):\n",
    "    for i in filename:\n",
    "        if i.endswith(\".png\"):\n",
    "            to_tensor = transforms.ToTensor()\n",
    "            \n",
    "            with Image.open(root + i) as img:\n",
    "                img = to_tensor(img)\n",
    "                DZK.append(img)\n",
    "                print(img.shape)\n",
    "\n",
    "# plot the pixel values\n",
    "img_np = np.array(DZK[8])\n",
    "plt.hist(img_np.ravel(), bins=50, density=True)\n",
    "plt.xlabel(\"pixel values\")\n",
    "plt.ylabel(\"relative frequency\")\n",
    "plt.title(\"distribution of pixels\")\n",
    "                \n",
    "# (Batch, Channel, Height, Width) format == nn.Conv2d()                \n",
    "imgs = torch.stack(DZK, dim = 0)\n",
    "print(imgs.shape)"
   ]
  },
  {
   "cell_type": "markdown",
   "id": "b665b216-2ba1-4be7-8227-91c4baa89b01",
   "metadata": {},
   "source": [
    "## Chris custom 5 layer U-Net"
   ]
  },
  {
   "cell_type": "code",
   "execution_count": 3,
   "id": "9379dfa6-b938-4f17-ab77-21ec0f8b5184",
   "metadata": {},
   "outputs": [
    {
     "name": "stdout",
     "output_type": "stream",
     "text": [
      "23496066\n"
     ]
    }
   ],
   "source": [
    "# Chris' 5 layer U_Net\n",
    "Five_UNet = Five_UNet()\n",
    "\n",
    "print(sum(p.numel() for p in Five_UNet.parameters() if p.requires_grad == True))\n",
    "#print(Five_UNet)"
   ]
  },
  {
   "cell_type": "markdown",
   "id": "2b58551e-8735-40a7-abf3-2abb60ab7805",
   "metadata": {},
   "source": [
    "### Mateuszbuda classic U_Net"
   ]
  },
  {
   "cell_type": "code",
   "execution_count": 4,
   "id": "60c7cb83-4aae-408a-933d-a72d8aaa8406",
   "metadata": {},
   "outputs": [
    {
     "name": "stderr",
     "output_type": "stream",
     "text": [
      "Using cache found in /home/chris/.cache/torch/hub/mateuszbuda_brain-segmentation-pytorch_master\n",
      "Downloading: \"https://github.com/mateuszbuda/brain-segmentation-pytorch/releases/download/v1.0/unet-e012d006.pt\" to /home/chris/.cache/torch/checkpoints/unet-e012d006.pt\n"
     ]
    },
    {
     "name": "stdout",
     "output_type": "stream",
     "text": [
      "7763041\n",
      "tensor([[[[5.5781e-06, 4.7937e-06, 8.4292e-06,  ..., 1.6734e-06,\n",
      "           7.2109e-07, 3.1599e-06],\n",
      "          [6.2059e-06, 3.3786e-06, 9.0324e-06,  ..., 5.2748e-07,\n",
      "           2.6459e-07, 1.2898e-06],\n",
      "          [6.4884e-06, 2.5493e-05, 6.4062e-06,  ..., 2.4354e-07,\n",
      "           1.1083e-07, 4.5566e-07],\n",
      "          ...,\n",
      "          [7.6218e-06, 1.5540e-05, 2.2886e-05,  ..., 1.0981e-06,\n",
      "           3.2117e-07, 5.2226e-07],\n",
      "          [1.3021e-05, 1.9110e-05, 1.3582e-05,  ..., 1.5786e-06,\n",
      "           3.0391e-07, 1.0297e-06],\n",
      "          [4.3103e-06, 4.2378e-06, 4.0916e-06,  ..., 2.5784e-06,\n",
      "           1.7760e-06, 2.6084e-06]]]], grad_fn=<SigmoidBackward>)\n",
      "37451\n"
     ]
    }
   ],
   "source": [
    "# Inspect U-Net (not native torchvision, but torch.hub)\n",
    "brain_UNet = torch.hub.load('mateuszbuda/brain-segmentation-pytorch', 'unet', \n",
    "                  in_channels = 3, out_channels = 1, init_features = 32, pretrained=True)\n",
    "\n",
    "print(sum(p.numel() for p in brain_UNet.parameters() if p.requires_grad == True))\n",
    "#print(brain_UNet)\n",
    "\n",
    "# Pass the image through\n",
    "img_t = DZK[8]\n",
    "prediction = brain_UNet(img_t.unsqueeze(0))\n",
    "\n",
    "print(prediction)\n",
    "\n",
    "predicted_class = prediction.detach().numpy()\n",
    "print(np.argmax(predicted_class))"
   ]
  },
  {
   "cell_type": "markdown",
   "id": "f069458f-e390-4208-a3e4-b355ad65ea18",
   "metadata": {},
   "source": [
    "### Qubvel OpenCities U-Net"
   ]
  },
  {
   "cell_type": "code",
   "execution_count": 5,
   "id": "331402e5-43cb-4013-b022-b409ce7e4860",
   "metadata": {},
   "outputs": [
    {
     "name": "stdout",
     "output_type": "stream",
     "text": [
      "8757105\n"
     ]
    }
   ],
   "source": [
    "effb1_UNet = smp.Unet(encoder_name='efficientnet-b1', encoder_depth=5, encoder_weights=None, decoder_use_batchnorm=True, decoder_channels=(256, 128, 64, 32, 16), decoder_attention_type=None, in_channels=3, classes=1, activation=\"softmax\", aux_params=None)\n",
    "\n",
    "qubvel_weights = os.path.abspath(\"/home/chris/Dropbox/HOTOSM/qubvel_UNet/weights/stage3/effb1-f0/checkpoints/best.pth\")\n",
    "qubvel_weights = torch.load(qubvel_weights, map_location = device)\n",
    "effb1_UNet.load_state_dict(qubvel_weights[\"state_dict\"])\n",
    "\n",
    "print(sum(p.numel() for p in effb1_UNet.parameters() if p.requires_grad == True))"
   ]
  },
  {
   "cell_type": "code",
   "execution_count": 6,
   "id": "bcbf5633-4791-426f-aeee-412753ae5dc9",
   "metadata": {
    "tags": []
   },
   "outputs": [
    {
     "name": "stdout",
     "output_type": "stream",
     "text": [
      "<class 'segmentation_models_pytorch.unet.model.Unet'>\n"
     ]
    }
   ],
   "source": [
    "print(type(effb1_UNet))"
   ]
  },
  {
   "cell_type": "code",
   "execution_count": 7,
   "id": "ca362bbd-b92b-41af-83e0-93868dbfc54d",
   "metadata": {},
   "outputs": [
    {
     "name": "stdout",
     "output_type": "stream",
     "text": [
      "tensor([[[[1., 1., 1.,  ..., 1., 1., 1.],\n",
      "          [1., 1., 1.,  ..., 1., 1., 1.],\n",
      "          [1., 1., 1.,  ..., 1., 1., 1.],\n",
      "          ...,\n",
      "          [1., 1., 1.,  ..., 1., 1., 1.],\n",
      "          [1., 1., 1.,  ..., 1., 1., 1.],\n",
      "          [1., 1., 1.,  ..., 1., 1., 1.]]]], grad_fn=<SoftmaxBackward>)\n",
      "0\n"
     ]
    },
    {
     "name": "stderr",
     "output_type": "stream",
     "text": [
      "/home/chris/miniconda3/envs/qubvel3.7_cpu/lib/python3.7/site-packages/segmentation_models_pytorch/base/modules.py:89: UserWarning: Implicit dimension choice for softmax has been deprecated. Change the call to include dim=X as an argument.\n",
      "  return self.activation(x)\n"
     ]
    }
   ],
   "source": [
    "effb1_UNet.eval()\n",
    "\n",
    "# Pass the image through\n",
    "img_t = DZK[8]\n",
    "prediction = effb1_UNet(img_t.unsqueeze(0))\n",
    "\n",
    "print(prediction)\n",
    "\n",
    "predicted_class = prediction.detach().numpy()\n",
    "print(np.argmax(predicted_class))"
   ]
  },
  {
   "cell_type": "code",
   "execution_count": null,
   "id": "3da9073a",
   "metadata": {},
   "outputs": [],
   "source": []
  }
 ],
 "metadata": {
  "kernelspec": {
   "display_name": "Python 3 (ipykernel)",
   "language": "python",
   "name": "python3"
  },
  "language_info": {
   "codemirror_mode": {
    "name": "ipython",
    "version": 3
   },
   "file_extension": ".py",
   "mimetype": "text/x-python",
   "name": "python",
   "nbconvert_exporter": "python",
   "pygments_lexer": "ipython3",
   "version": "3.7.0"
  }
 },
 "nbformat": 4,
 "nbformat_minor": 5
}
