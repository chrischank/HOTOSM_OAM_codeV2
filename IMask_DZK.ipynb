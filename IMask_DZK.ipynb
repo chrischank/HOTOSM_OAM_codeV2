{
 "cells": [
  {
   "cell_type": "code",
   "execution_count": 1,
   "id": "73f0817b-71ed-4293-a7ea-1e27ca1fc2a0",
   "metadata": {},
   "outputs": [],
   "source": [
    "import os\n",
    "import sys\n",
    "import rasterio as rio\n",
    "from rasterio.mask import mask\n",
    "import geopandas as gpd"
   ]
  },
  {
   "cell_type": "code",
   "execution_count": 2,
   "id": "2735aa26-68f9-4326-8dea-c722e5a49fd8",
   "metadata": {},
   "outputs": [],
   "source": [
    "DZK_path = os.path.abspath(\"/home/mnt/HOTOSM_data/Dzaleka15cm\")\n",
    "DZKN_path = os.path.abspath(\"/home/mnt/HOTOSM_data/Dzaleka_N15cm\")\n",
    "\n",
    "DZK_buffer = gpd.read_file(\"/home/mnt/HOTOSM_data/Buff10m_inter.geojson\")"
   ]
  },
  {
   "cell_type": "code",
   "execution_count": 5,
   "id": "932be3e3-859e-4326-a8b7-bed7427f601d",
   "metadata": {},
   "outputs": [],
   "source": [
    "with rio.open(os.path.join(DZKN_path, \"Raster\", \"3857_DZKN15.tif\")) as src:\n",
    "    out_meta = src.meta\n",
    "    outpath = os.path.join(DZKN_path, \"Raster\", \"IMask_DZKN15.tif\")\n",
    "    \n",
    "    masked, masked_transform = mask(src, DZK_buffer.geometry, invert = True)\n",
    "    \n",
    "    out_meta.update({\"driver\": \"GTiff\",\n",
    "                     \"height\": masked.shape[1],\n",
    "                     \"width\": masked.shape[2],\n",
    "                     \"transform\": masked_transform})\n",
    "    \n",
    "    with rio.open(outpath, \"w\", **out_meta) as dst:\n",
    "        dst.write(masked)"
   ]
  }
 ],
 "metadata": {
  "kernelspec": {
   "display_name": "Python 3 (ipykernel)",
   "language": "python",
   "name": "python3"
  },
  "language_info": {
   "codemirror_mode": {
    "name": "ipython",
    "version": 3
   },
   "file_extension": ".py",
   "mimetype": "text/x-python",
   "name": "python",
   "nbconvert_exporter": "python",
   "pygments_lexer": "ipython3",
   "version": "3.9.7"
  }
 },
 "nbformat": 4,
 "nbformat_minor": 5
}
