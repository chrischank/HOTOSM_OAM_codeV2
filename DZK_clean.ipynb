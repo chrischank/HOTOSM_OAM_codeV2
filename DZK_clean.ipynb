{
 "cells": [
  {
   "cell_type": "code",
   "execution_count": 1,
   "id": "577b78f2-0022-4c6c-8662-8294a8270a57",
   "metadata": {},
   "outputs": [],
   "source": [
    "import os\n",
    "import sys\n",
    "import pandas as pd\n",
    "import geopandas as gpd"
   ]
  },
  {
   "cell_type": "code",
   "execution_count": 20,
   "id": "e52245ef-77bd-4ac5-9e18-361a98221c08",
   "metadata": {},
   "outputs": [],
   "source": [
    "OSM_DZK = gpd.read_file(\"/home/mnt/HOTOSM_data/Dzaleka/Vector/3857OSM_DZK.geojson\")\n",
    "OSM_DZKN = gpd.read_file(\"/home/mnt/HOTOSM_data/Dzaleka_N/Vector/3857OSM_DZKN.geojson\")"
   ]
  },
  {
   "cell_type": "code",
   "execution_count": 11,
   "id": "938f4755-e916-4ae5-97f6-8ebd91f51c72",
   "metadata": {},
   "outputs": [
    {
     "data": {
      "text/plain": [
       "array(['yes', 'house', 'school', 'hospital', None, 'semidetached_house',\n",
       "       'industrial', 'warehouse', 'residential', 'shed', 'construction',\n",
       "       'church', 'place'], dtype=object)"
      ]
     },
     "execution_count": 11,
     "metadata": {},
     "output_type": "execute_result"
    }
   ],
   "source": [
    "OSM_DZK[\"building\"].unique()"
   ]
  },
  {
   "cell_type": "code",
   "execution_count": 16,
   "id": "55f7502e-3f32-4e1b-ba1b-559e094ad9c5",
   "metadata": {},
   "outputs": [],
   "source": [
    "# Replace residential with 2\n",
    "OSM_DZK[\"building\"] = OSM_DZK[\"building\"].replace(\n",
    "    to_replace = [\"yes\", \"house\", \"semidetached_house\", \"residential\"],\n",
    "    value = 2)"
   ]
  },
  {
   "cell_type": "code",
   "execution_count": 17,
   "id": "96abf98b-b7ff-422a-a845-b54933f2ec76",
   "metadata": {},
   "outputs": [],
   "source": [
    "# Replace residential with 1\n",
    "OSM_DZK[\"building\"] = OSM_DZK[\"building\"].replace(\n",
    "    to_replace = [\"school\", \"hospital\", \"industrial\", \"warehouse\", \"shed\", \"construction\", \"church\", \"place\"],\n",
    "    value = 1)"
   ]
  },
  {
   "cell_type": "code",
   "execution_count": 18,
   "id": "aded925e-e9ab-4853-9c2b-76841a93787e",
   "metadata": {},
   "outputs": [
    {
     "data": {
      "text/plain": [
       "array([ 2.,  1., nan])"
      ]
     },
     "execution_count": 18,
     "metadata": {},
     "output_type": "execute_result"
    }
   ],
   "source": [
    "OSM_DZK[\"building\"].unique()"
   ]
  },
  {
   "cell_type": "code",
   "execution_count": 19,
   "id": "2ea40977-7599-4c67-88ba-95d619dcd200",
   "metadata": {},
   "outputs": [],
   "source": [
    "OSM_DZK.to_file(\"/home/mnt/HOTOSM_data/Dzaleka/Vector/3857OSM_DZK.geojson\")"
   ]
  },
  {
   "cell_type": "code",
   "execution_count": 25,
   "id": "2fdbc500-5fe9-4bcc-8a44-5eeff9c5c36e",
   "metadata": {},
   "outputs": [],
   "source": [
    "OSM_DZKN[\"building\"] = OSM_DZKN[\"building\"].replace(\n",
    "    to_replace = [\"yes\"],\n",
    "    value = 1)"
   ]
  },
  {
   "cell_type": "code",
   "execution_count": 26,
   "id": "fd5fff79-52de-4c1a-ba65-a7935d384761",
   "metadata": {},
   "outputs": [],
   "source": [
    "OSM_DZKN.to_file(\"/home/mnt/HOTOSM_data/Dzaleka_N/Vector/3857OSM_DZKN.geojson\")"
   ]
  }
 ],
 "metadata": {
  "kernelspec": {
   "display_name": "Python 3 (ipykernel)",
   "language": "python",
   "name": "python3"
  },
  "language_info": {
   "codemirror_mode": {
    "name": "ipython",
    "version": 3
   },
   "file_extension": ".py",
   "mimetype": "text/x-python",
   "name": "python",
   "nbconvert_exporter": "python",
   "pygments_lexer": "ipython3",
   "version": "3.8.12"
  }
 },
 "nbformat": 4,
 "nbformat_minor": 5
}
